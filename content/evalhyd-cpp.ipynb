{
 "cells": [
  {
   "cell_type": "markdown",
   "source": [
    "## `evalhyd-cpp` demonstration"
   ],
   "metadata": {
    "collapsed": false
   }
  },
  {
   "cell_type": "code",
   "execution_count": null,
   "outputs": [],
   "source": [
    "#include <xtensor/xtensor.hpp>\n",
    "#include <xtensor/xio.hpp>\n",
    "#include <evalhyd/evald.hpp>\n",
    "#include <evalhyd/evalp.hpp>"
   ],
   "metadata": {
    "collapsed": false
   }
  },
  {
   "cell_type": "markdown",
   "source": [
    "### Deterministic evaluation"
   ],
   "metadata": {
    "collapsed": false
   }
  },
  {
   "cell_type": "markdown",
   "source": [
    "Define streamflow observations"
   ],
   "metadata": {
    "collapsed": false
   }
  },
  {
   "cell_type": "code",
   "execution_count": null,
   "outputs": [],
   "source": [
    "// shape: {1, time: 4}\n",
    "xt::xtensor<double, 2> obs =\n",
    "    {{4.7, 4.3, 5.5, 2.7}};"
   ],
   "metadata": {
    "collapsed": false
   }
  },
  {
   "cell_type": "markdown",
   "source": [
    "Define streamflow predictions"
   ],
   "metadata": {
    "collapsed": false
   }
  },
  {
   "cell_type": "code",
   "execution_count": null,
   "outputs": [],
   "source": [
    "// shape: {series: 1, time: 4}\n",
    "xt::xtensor<double, 2> prd =\n",
    "    {{5.3, 4.2, 5.7, 2.3}};"
   ],
   "metadata": {
    "collapsed": false
   }
  },
  {
   "cell_type": "markdown",
   "source": [
    "Compute Nash-Sutcliffe efficiency"
   ],
   "metadata": {
    "collapsed": false
   }
  },
  {
   "cell_type": "code",
   "execution_count": null,
   "metadata": {},
   "outputs": [],
   "source": [
    "// shape: {series: 1, subsets: 1, samples: 1}\n",
    "std::cout << evalhyd::evald(obs, prd, {\"NSE\"})[0] << std::endl;"
   ]
  },
  {
   "cell_type": "markdown",
   "source": [
    "### Probabilistic evaluation"
   ],
   "metadata": {
    "collapsed": false
   }
  },
  {
   "cell_type": "markdown",
   "source": [
    "Define streamflow observations"
   ],
   "metadata": {
    "collapsed": false
   }
  },
  {
   "cell_type": "code",
   "execution_count": null,
   "outputs": [],
   "source": [
    "// shape: {sites: 1, time: 5}\n",
    "xt::xtensor<double, 2> obs =\n",
    "    {{4.7, 4.3, 5.5, 2.7, 4.1}};"
   ],
   "metadata": {
    "collapsed": false
   }
  },
  {
   "cell_type": "markdown",
   "source": [
    "Define streamflow predictions"
   ],
   "metadata": {
    "collapsed": false
   }
  },
  {
   "cell_type": "code",
   "execution_count": null,
   "outputs": [],
   "source": [
    "// shape: {sites: 1, lead times: 1, members: 3, time: 5}\n",
    "xt::xtensor<double, 4> prd =\n",
    "    {{{{5.3, 4.2, 5.7, 2.3, 3.1},\n",
    "       {4.3, 4.2, 4.7, 4.3, 3.3},\n",
    "       {5.3, 5.2, 5.7, 2.3, 3.9}}}};"
   ],
   "metadata": {
    "collapsed": false
   }
  },
  {
   "cell_type": "markdown",
   "source": [
    "Define streamflow thresholds"
   ],
   "metadata": {
    "collapsed": false
   }
  },
  {
   "cell_type": "code",
   "execution_count": null,
   "outputs": [],
   "source": [
    "// shape: {sites: 1, thresholds: 2}\n",
    "xt::xtensor<double, 2> thr =\n",
    "    {{4., 5.}};"
   ],
   "metadata": {
    "collapsed": false
   }
  },
  {
   "cell_type": "markdown",
   "source": [
    "Compute Brier score"
   ],
   "metadata": {
    "collapsed": false
   }
  },
  {
   "cell_type": "code",
   "execution_count": null,
   "outputs": [],
   "source": [
    "// shape: {sites: 1, lead times: 1, subsets: 1, samples: 1, thresholds: 2}\n",
    "std::cout << evalhyd::evalp(obs, prd, {\"BS\"}, thr, \"high\")[0] << std::endl;"
   ],
   "metadata": {
    "collapsed": false
   }
  }
 ],
 "metadata": {
  "kernelspec": {
   "display_name": "C++14",
   "language": "C++14",
   "name": "xcpp14"
  },
  "language_info": {
   "codemirror_mode": "text/x-c++src",
   "file_extension": ".cpp",
   "mimetype": "text/x-c++src",
   "name": "c++",
   "version": "-std=c++14"
  }
 },
 "nbformat": 4,
 "nbformat_minor": 4
}
