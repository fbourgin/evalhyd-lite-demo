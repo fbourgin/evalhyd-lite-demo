{
  "metadata": {
    "kernelspec": {
      "name": "xcpp17",
      "display_name": "C++17",
      "language": "cpp"
    },
    "language_info": {
      "codemirror_mode": "text/x-c++src",
      "file_extension": ".cpp",
      "mimetype": "text/x-c++src",
      "name": "C++",
      "version": "17"
    }
  },
  "nbformat_minor": 5,
  "nbformat": 4,
  "cells": [
    {
      "id": "f12aff4b-d563-46d4-845e-81825f44bad1",
      "cell_type": "code",
      "source": "#include <xtensor/xtensor.hpp>\n#include <xtensor/xio.hpp>\n#include <evalhyd/evald.hpp>\n\nxt::xtensor<double, 2> obs =\n    {{4.7, 4.3, 5.5, 2.7}};\nxt::xtensor<double, 2> prd =\n    {{5.3, 4.2, 5.7, 2.3}};\n\nauto res =\n    evalhyd::evald(obs, prd, {\"NSE\"});\n\nstd::cout << res[0] << std::endl;\n// {{{ 0.862981}}}",
      "metadata": {
        "trusted": true
      },
      "outputs": [],
      "execution_count": null
    }
  ]
}